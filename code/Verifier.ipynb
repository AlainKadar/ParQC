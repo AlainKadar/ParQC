{
 "cells": [
  {
   "cell_type": "code",
   "execution_count": 6,
   "id": "a93e9e5b-2f7f-4aaf-8047-64239c79f25a",
   "metadata": {},
   "outputs": [],
   "source": [
    "import numpy as np\n",
    "import freud\n",
    "import gsd.hoomd\n",
    "import matplotlib.pyplot as plt"
   ]
  },
  {
   "cell_type": "code",
   "execution_count": 7,
   "id": "f877b491",
   "metadata": {},
   "outputs": [],
   "source": [
    "#Trim the initial file\n",
    "scale=0.917\n",
    "snap = gsd.hoomd.open('ideal_tiling.gsd', 'rb')[0]\n",
    "box, positions  = [1000, 1000, 0, 0, 0, 0], snap.particles.position\n",
    "\n",
    "aq = freud.locality.AABBQuery(box, positions)\n",
    "nlist = aq.query(positions, {'r_max': 0.97, 'exclude_ii':True}).toNeighborList()\n",
    "trimmed_positions = positions[nlist.neighbor_counts>0]\n",
    "\n",
    "s = gsd.hoomd.Snapshot()\n",
    "s.particles.N = len(trimmed_positions)\n",
    "s.particles.types = ['A']\n",
    "s.particles.typeid = ['0']*s.particles.N\n",
    "s.particles.position = trimmed_positions\n",
    "\n",
    "with gsd.hoomd.open(name='ideal_trimmed.gsd', mode='wb') as f:\n",
    "    f.append(s)"
   ]
  },
  {
   "cell_type": "code",
   "execution_count": 8,
   "id": "195c687d",
   "metadata": {},
   "outputs": [],
   "source": [
    "#Write the neighbour and position lists\n",
    "snap = gsd.hoomd.open('ideal_trimmed.gsd', 'rb')[0]\n",
    "aq2 = freud.locality.AABBQuery(box, positions)\n",
    "nlist2 = aq2.query(positions, {'r_max': 0.97, 'exclude_ii':True}).toNeighborList()\n",
    "np.set_printoptions(suppress=True)\n",
    "np.savetxt(\"P_ideal.txt\", positions.flatten(), fmt='%4f')\n",
    "np.savetxt(\"NL_ideal.txt\", nlist2[:].flatten(), fmt='%4d')  "
   ]
  },
  {
   "attachments": {},
   "cell_type": "markdown",
   "id": "bac05f5e",
   "metadata": {},
   "source": [
    "If necessary, now run the lifting code. Arguments following the executable's name are\n",
    "-  The name of the gsd file to analyze\n",
    "-  The number of queue threads\n",
    "-  The number of neighbor list searching threads per queue thread\n",
    "-  The number of visited list searching threads per neighbour list searching thread\n",
    "-  The index of the origin point\n",
    "-  The factor by which to scale the basis set"
   ]
  },
  {
   "cell_type": "code",
   "execution_count": 9,
   "id": "93a638e9",
   "metadata": {},
   "outputs": [
    {
     "name": "stdout",
     "output_type": "stream",
     "text": [
      "Time taken was 2.066519\n"
     ]
    }
   ],
   "source": [
    "!./lift ideal 1 2 2 0 0.917"
   ]
  },
  {
   "cell_type": "code",
   "execution_count": 10,
   "id": "b3a8e898",
   "metadata": {},
   "outputs": [],
   "source": [
    "#Test the projection\n",
    "PI=np.pi\n",
    "Q = np.array([[0, 1*scale, 0],                                             \n",
    "              [np.sin(2*PI/5)*scale, np.cos(2*PI/5)*scale, 0],                        \n",
    "              [np.sin(4*PI/5)*scale, np.cos(4*PI/5)*scale, 0],                        \n",
    "              [np.sin(6*PI/5)*scale, np.cos(6*PI/5)*scale, 0],                        \n",
    "              [np.sin(8*PI/5)*scale, np.cos(8*PI/5)*scale, 0]])\n",
    "\n",
    "H = np.loadtxt('H_ideal.txt')\n",
    "H = H.reshape((int(len(H)/5),5))\n",
    "\n",
    "proj = Q.T @ H.T\n",
    "\n",
    "#plt.scatter(proj[0], proj[1], s=0.01)\n",
    "#plt.show()"
   ]
  }
 ],
 "metadata": {
  "kernelspec": {
   "display_name": "main",
   "language": "python",
   "name": "python3"
  },
  "language_info": {
   "codemirror_mode": {
    "name": "ipython",
    "version": 3
   },
   "file_extension": ".py",
   "mimetype": "text/x-python",
   "name": "python",
   "nbconvert_exporter": "python",
   "pygments_lexer": "ipython3",
   "version": "3.9.6"
  },
  "vscode": {
   "interpreter": {
    "hash": "e88dca2ccb5f9e67efab9c4e5346f2a1fad561e0a4004a9c87021781ebdb569b"
   }
  }
 },
 "nbformat": 4,
 "nbformat_minor": 5
}
