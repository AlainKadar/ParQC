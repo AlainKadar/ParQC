{
 "cells": [
  {
   "cell_type": "code",
   "execution_count": 1,
   "id": "a93e9e5b-2f7f-4aaf-8047-64239c79f25a",
   "metadata": {},
   "outputs": [],
   "source": [
    "import numpy as np\n",
    "import freud\n",
    "import math\n",
    "import gsd.hoomd\n",
    "import matplotlib.pyplot as plt\n",
    "from scipy.spatial.transform import Rotation as R"
   ]
  },
  {
   "cell_type": "code",
   "execution_count": 2,
   "id": "dd1701c5",
   "metadata": {},
   "outputs": [],
   "source": [
    "#VERIFY is the file suffix\n",
    "VERIFY='ideal' "
   ]
  },
  {
   "cell_type": "code",
   "execution_count": 3,
   "id": "f877b491",
   "metadata": {},
   "outputs": [],
   "source": [
    "#Trim and/or rotate initial file\n",
    "if VERIFY=='ideal':\n",
    "    scale=0.917\n",
    "    snap = gsd.hoomd.open('ideal_tiling.gsd', 'rb')[0]\n",
    "    box, positions  = [1000, 1000, 0, 0, 0, 0], snap.particles.position\n",
    "\n",
    "    aq = freud.locality.AABBQuery(box, positions)\n",
    "    nlist = aq.query(positions, {'r_max': 0.97, 'exclude_ii':True}).toNeighborList()\n",
    "    trimmed_positions = positions[nlist.neighbor_counts>0]\n",
    "    \n",
    "    s = gsd.hoomd.Snapshot()\n",
    "    s.particles.N = len(trimmed_positions)\n",
    "    s.particles.types = ['A']\n",
    "    s.particles.typeid = ['0']*s.particles.N\n",
    "    s.particles.position = trimmed_positions\n",
    "\n",
    "    with gsd.hoomd.open(name=VERIFY + '_trimmed.gsd', mode='wb') as f:\n",
    "        f.append(s)   \n",
    "else:\n",
    "    scale=0.964\n",
    "    snap = gsd.hoomd.open('flattened_simulation.gsd', 'rb')[0]\n",
    "    box, positions  = [1000, 1000, 0, 0, 0, 0], snap.particles.position\n",
    "\n",
    "    aq = freud.locality.AABBQuery(box, positions)\n",
    "    nlist = aq.query(positions, {'r_max': 1.0, 'exclude_ii':True}).toNeighborList()\n",
    "    trimmed_positions = positions[nlist.neighbor_counts>0]\n",
    "    dec_order = freud.order.Hexatic(k=10)\n",
    "    dec_order.compute(system=(box, trimmed_positions))\n",
    "    rotation = np.mean(np.angle(dec_order.particle_order))/2\n",
    "\n",
    "    r = R.from_quat([math.cos(rotation), math.sin(rotation), 0, 0])\n",
    "    rotated_positions = trimmed_positions @ r.as_matrix()\n",
    "\n",
    "    s = gsd.hoomd.Snapshot()\n",
    "    s.particles.N = len(rotated_positions)\n",
    "    s.particles.types = ['A']\n",
    "    s.particles.typeid = ['0']*s.particles.N\n",
    "    s.particles.position = rotated_positions\n",
    "\n",
    "    with gsd.hoomd.open(name=VERIFY + '_trimmed.gsd', mode='wb') as f:\n",
    "        f.append(s)   \n"
   ]
  },
  {
   "cell_type": "code",
   "execution_count": 4,
   "id": "195c687d",
   "metadata": {},
   "outputs": [],
   "source": [
    "#Write the neighbour and position lists\n",
    "def write_txt(thresh):\n",
    "    snap = gsd.hoomd.open(VERIFY + '_trimmed.gsd', 'rb')[0]\n",
    "    aq2 = freud.locality.AABBQuery(box, positions)\n",
    "    nlist2 = aq2.query(positions, {'r_max': thresh, 'exclude_ii':True}).toNeighborList()\n",
    "\n",
    "    np.set_printoptions(suppress=True)\n",
    "    np.savetxt(\"P_\" + VERIFY + \".txt\", positions.flatten(), fmt='%4f')\n",
    "    np.savetxt(\"NL_\" + VERIFY + \".txt\", nlist2[:].flatten(), fmt='%4d')  \n",
    "\n",
    "if VERIFY=='ideal': write_txt(0.97)\n",
    "else: write_txt(1.1)"
   ]
  },
  {
   "attachments": {},
   "cell_type": "markdown",
   "id": "bac05f5e",
   "metadata": {},
   "source": [
    "If necessary, now run the lifting code. Arguments following the executable's name are\n",
    "-  The name of the gsd file to analyze\n",
    "-  The number of queue threads\n",
    "-  The number of neighbor list searching threads per queue thread\n",
    "-  The number of visited list searching threads per neighbour list searching thread\n",
    "-  The index of the origin point"
   ]
  },
  {
   "cell_type": "code",
   "execution_count": 5,
   "id": "93a638e9",
   "metadata": {},
   "outputs": [
    {
     "name": "stdout",
     "output_type": "stream",
     "text": [
      "Time taken was 2.086785\n"
     ]
    }
   ],
   "source": [
    "!./lift ideal 1 2 2 0 0.917"
   ]
  },
  {
   "cell_type": "code",
   "execution_count": 6,
   "id": "b3a8e898",
   "metadata": {},
   "outputs": [
    {
     "data": {
      "image/png": "[encoded data removed]",
      "text/plain": [
       "<Figure size 432x288 with 1 Axes>"
      ]
     },
     "metadata": {
      "needs_background": "light"
     },
     "output_type": "display_data"
    }
   ],
   "source": [
    "#Test the projection\n",
    "PI=np.pi\n",
    "Q = np.array([[0, 1*scale, 0],                                             \n",
    "              [np.sin(2*PI/5)*scale, np.cos(2*PI/5)*scale, 0],                        \n",
    "              [np.sin(4*PI/5)*scale, np.cos(4*PI/5)*scale, 0],                        \n",
    "              [np.sin(6*PI/5)*scale, np.cos(6*PI/5)*scale, 0],                        \n",
    "              [np.sin(8*PI/5)*scale, np.cos(8*PI/5)*scale, 0]])\n",
    "\n",
    "H = np.loadtxt('H_' + VERIFY + '.txt')\n",
    "H = H.reshape((int(len(H)/5),5))\n",
    "\n",
    "proj = Q.T @ H.T\n",
    "\n",
    "plt.scatter(proj[0], proj[1], s=0.01)\n",
    "plt.show()\n",
    "\n",
    "s = gsd.hoomd.Snapshot()\n",
    "s.particles.N = len(proj.T)\n",
    "s.particles.types = ['A']\n",
    "s.particles.typeid = ['0']*s.particles.N\n",
    "s.particles.position = proj.T\n",
    "\n",
    "with gsd.hoomd.open(name=VERIFY + '_recon.gsd', mode='wb') as f:\n",
    "    f.append(s)\n"
   ]
  }
 ],
 "metadata": {
  "kernelspec": {
   "display_name": "base",
   "language": "python",
   "name": "python3"
  },
  "language_info": {
   "codemirror_mode": {
    "name": "ipython",
    "version": 3
   },
   "file_extension": ".py",
   "mimetype": "text/x-python",
   "name": "python",
   "nbconvert_exporter": "python",
   "pygments_lexer": "ipython3",
   "version": "3.9.15"
  },
  "vscode": {
   "interpreter": {
    "hash": "e3c827ad66ac163c0b75165a204aefc2c987e7997066947993cca71ae3142d40"
   }
  }
 },
 "nbformat": 4,
 "nbformat_minor": 5
}
